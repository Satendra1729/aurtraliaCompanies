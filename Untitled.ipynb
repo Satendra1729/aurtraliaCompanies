{
 "cells": [
  {
   "cell_type": "code",
   "execution_count": 1,
   "metadata": {
    "collapsed": true
   },
   "outputs": [],
   "source": [
    "import requests; \n",
    "import re; \n",
    "from bs4 import BeautifulSoup; \n",
    "from time import sleep; \n",
    "import itertools; "
   ]
  },
  {
   "cell_type": "code",
   "execution_count": 2,
   "metadata": {
    "scrolled": false
   },
   "outputs": [
    {
     "name": "stderr",
     "output_type": "stream",
     "text": [
      "C:\\ProgramData\\Anaconda3\\lib\\site-packages\\urllib3\\connectionpool.py:858: InsecureRequestWarning: Unverified HTTPS request is being made. Adding certificate verification is strongly advised. See: https://urllib3.readthedocs.io/en/latest/advanced-usage.html#ssl-warnings\n",
      "  InsecureRequestWarning)\n",
      "C:\\ProgramData\\Anaconda3\\lib\\site-packages\\bs4\\__init__.py:181: UserWarning: No parser was explicitly specified, so I'm using the best available HTML parser for this system (\"lxml\"). This usually isn't a problem, but if you run this code on another system, or in a different virtual environment, it may use a different parser and behave differently.\n",
      "\n",
      "The code that caused this warning is on line 193 of the file C:\\ProgramData\\Anaconda3\\lib\\runpy.py. To get rid of this warning, change code that looks like this:\n",
      "\n",
      " BeautifulSoup(YOUR_MARKUP})\n",
      "\n",
      "to this:\n",
      "\n",
      " BeautifulSoup(YOUR_MARKUP, \"lxml\")\n",
      "\n",
      "  markup_type=markup_type))\n",
      "C:\\ProgramData\\Anaconda3\\lib\\site-packages\\urllib3\\connectionpool.py:858: InsecureRequestWarning: Unverified HTTPS request is being made. Adding certificate verification is strongly advised. See: https://urllib3.readthedocs.io/en/latest/advanced-usage.html#ssl-warnings\n",
      "  InsecureRequestWarning)\n",
      "C:\\ProgramData\\Anaconda3\\lib\\site-packages\\urllib3\\connectionpool.py:858: InsecureRequestWarning: Unverified HTTPS request is being made. Adding certificate verification is strongly advised. See: https://urllib3.readthedocs.io/en/latest/advanced-usage.html#ssl-warnings\n",
      "  InsecureRequestWarning)\n",
      "C:\\ProgramData\\Anaconda3\\lib\\site-packages\\urllib3\\connectionpool.py:858: InsecureRequestWarning: Unverified HTTPS request is being made. Adding certificate verification is strongly advised. See: https://urllib3.readthedocs.io/en/latest/advanced-usage.html#ssl-warnings\n",
      "  InsecureRequestWarning)\n",
      "C:\\ProgramData\\Anaconda3\\lib\\site-packages\\urllib3\\connectionpool.py:858: InsecureRequestWarning: Unverified HTTPS request is being made. Adding certificate verification is strongly advised. See: https://urllib3.readthedocs.io/en/latest/advanced-usage.html#ssl-warnings\n",
      "  InsecureRequestWarning)\n"
     ]
    },
    {
     "name": "stdout",
     "output_type": "stream",
     "text": [
      "[{'ABN': '16 113 791 003Active,/SearchByAbn.aspx?abn=16113791003', 'Name': 'AJR Communications Pty Ltd', 'Type': 'Entity Name', 'Location': '3156         VIC'}, {'ABN': '16 113 791 003Active,/SearchByAbn.aspx?abn=16113791003', 'Name': 'AJR Communications Pty Ltd', 'Type': 'Entity Name', 'Location': '3156         VIC'}, {'ABN': '16 113 791 003Active,/SearchByAbn.aspx?abn=16113791003', 'Name': 'AJR Communications Pty Ltd', 'Type': 'Entity Name', 'Location': '3156         VIC'}, {'ABN': '16 113 791 003Active,/SearchByAbn.aspx?abn=16113791003', 'Name': 'AJR Communications Pty Ltd', 'Type': 'Entity Name', 'Location': '3156         VIC'}, {'ABN': '16 113 791 003Active,/SearchByAbn.aspx?abn=16113791003', 'Name': 'AJR Communications Pty Ltd', 'Type': 'Entity Name', 'Location': '3156         VIC'}, {'ABN': '16 113 791 003Active,/SearchByAbn.aspx?abn=16113791003', 'Name': 'AJR Communications Pty Ltd', 'Type': 'Entity Name', 'Location': '3156         VIC'}, {'ABN': '16 113 791 003Active,/SearchByAbn.aspx?abn=16113791003', 'Name': 'AJR Communications Pty Ltd', 'Type': 'Entity Name', 'Location': '3156         VIC'}, {'ABN': '16 113 791 003Active,/SearchByAbn.aspx?abn=16113791003', 'Name': 'AJR Communications Pty Ltd', 'Type': 'Entity Name', 'Location': '3156         VIC'}, {'ABN': '16 113 791 003Active,/SearchByAbn.aspx?abn=16113791003', 'Name': 'AJR Communications Pty Ltd', 'Type': 'Entity Name', 'Location': '3156         VIC'}, {'ABN': '16 113 791 003Active,/SearchByAbn.aspx?abn=16113791003', 'Name': 'AJR Communications Pty Ltd', 'Type': 'Entity Name', 'Location': '3156         VIC'}, {'ABN': '16 113 791 003Active,/SearchByAbn.aspx?abn=16113791003', 'Name': 'AJR Communications Pty Ltd', 'Type': 'Entity Name', 'Location': '3156         VIC'}, {'ABN': '16 113 791 003Active,/SearchByAbn.aspx?abn=16113791003', 'Name': 'AJR Communications Pty Ltd', 'Type': 'Entity Name', 'Location': '3156         VIC'}, {'ABN': '16 113 791 003Active,/SearchByAbn.aspx?abn=16113791003', 'Name': 'AJR Communications Pty Ltd', 'Type': 'Entity Name', 'Location': '3156         VIC'}, {'ABN': '16 113 791 003Active,/SearchByAbn.aspx?abn=16113791003', 'Name': 'AJR Communications Pty Ltd', 'Type': 'Entity Name', 'Location': '3156         VIC'}, {'ABN': '16 113 791 003Active,/SearchByAbn.aspx?abn=16113791003', 'Name': 'AJR Communications Pty Ltd', 'Type': 'Entity Name', 'Location': '3156         VIC'}, {'ABN': '16 113 791 003Active,/SearchByAbn.aspx?abn=16113791003', 'Name': 'AJR Communications Pty Ltd', 'Type': 'Entity Name', 'Location': '3156         VIC'}, {'ABN': '16 113 791 003Active,/SearchByAbn.aspx?abn=16113791003', 'Name': 'AJR Communications Pty Ltd', 'Type': 'Entity Name', 'Location': '3156         VIC'}, {'ABN': '16 113 791 003Active,/SearchByAbn.aspx?abn=16113791003', 'Name': 'AJR Communications Pty Ltd', 'Type': 'Entity Name', 'Location': '3156         VIC'}, {'ABN': '16 113 791 003Active,/SearchByAbn.aspx?abn=16113791003', 'Name': 'AJR Communications Pty Ltd', 'Type': 'Entity Name', 'Location': '3156         VIC'}, {'ABN': '16 113 791 003Active,/SearchByAbn.aspx?abn=16113791003', 'Name': 'AJR Communications Pty Ltd', 'Type': 'Entity Name', 'Location': '3156         VIC'}, {'ABN': '16 113 791 003Active,/SearchByAbn.aspx?abn=16113791003', 'Name': 'AJR Communications Pty Ltd', 'Type': 'Entity Name', 'Location': '3156         VIC'}, {'ABN': '16 113 791 003Active,/SearchByAbn.aspx?abn=16113791003', 'Name': 'AJR Communications Pty Ltd', 'Type': 'Entity Name', 'Location': '3156         VIC'}, {'ABN': '16 113 791 003Active,/SearchByAbn.aspx?abn=16113791003', 'Name': 'AJR Communications Pty Ltd', 'Type': 'Entity Name', 'Location': '3156         VIC'}, {'ABN': '16 113 791 003Active,/SearchByAbn.aspx?abn=16113791003', 'Name': 'AJR Communications Pty Ltd', 'Type': 'Entity Name', 'Location': '3156         VIC'}, {'ABN': '16 113 791 003Active,/SearchByAbn.aspx?abn=16113791003', 'Name': 'AJR Communications Pty Ltd', 'Type': 'Entity Name', 'Location': '3156         VIC'}, {'ABN': '16 113 791 003Active,/SearchByAbn.aspx?abn=16113791003', 'Name': 'AJR Communications Pty Ltd', 'Type': 'Entity Name', 'Location': '3156         VIC'}, {'ABN': '16 113 791 003Active,/SearchByAbn.aspx?abn=16113791003', 'Name': 'AJR Communications Pty Ltd', 'Type': 'Entity Name', 'Location': '3156         VIC'}, {'ABN': '16 113 791 003Active,/SearchByAbn.aspx?abn=16113791003', 'Name': 'AJR Communications Pty Ltd', 'Type': 'Entity Name', 'Location': '3156         VIC'}, {'ABN': '16 113 791 003Active,/SearchByAbn.aspx?abn=16113791003', 'Name': 'AJR Communications Pty Ltd', 'Type': 'Entity Name', 'Location': '3156         VIC'}, {'ABN': '16 113 791 003Active,/SearchByAbn.aspx?abn=16113791003', 'Name': 'AJR Communications Pty Ltd', 'Type': 'Entity Name', 'Location': '3156         VIC'}, {'ABN': '16 113 791 003Active,/SearchByAbn.aspx?abn=16113791003', 'Name': 'AJR Communications Pty Ltd', 'Type': 'Entity Name', 'Location': '3156         VIC'}, {'ABN': '16 113 791 003Active,/SearchByAbn.aspx?abn=16113791003', 'Name': 'AJR Communications Pty Ltd', 'Type': 'Entity Name', 'Location': '3156         VIC'}, {'ABN': '16 113 791 003Active,/SearchByAbn.aspx?abn=16113791003', 'Name': 'AJR Communications Pty Ltd', 'Type': 'Entity Name', 'Location': '3156         VIC'}, {'ABN': '16 113 791 003Active,/SearchByAbn.aspx?abn=16113791003', 'Name': 'AJR Communications Pty Ltd', 'Type': 'Entity Name', 'Location': '3156         VIC'}, {'ABN': '16 113 791 003Active,/SearchByAbn.aspx?abn=16113791003', 'Name': 'AJR Communications Pty Ltd', 'Type': 'Entity Name', 'Location': '3156         VIC'}, {'ABN': '16 113 791 003Active,/SearchByAbn.aspx?abn=16113791003', 'Name': 'AJR Communications Pty Ltd', 'Type': 'Entity Name', 'Location': '3156         VIC'}, {'ABN': '16 113 791 003Active,/SearchByAbn.aspx?abn=16113791003', 'Name': 'AJR Communications Pty Ltd', 'Type': 'Entity Name', 'Location': '3156         VIC'}, {'ABN': '16 113 791 003Active,/SearchByAbn.aspx?abn=16113791003', 'Name': 'AJR Communications Pty Ltd', 'Type': 'Entity Name', 'Location': '3156         VIC'}, {'ABN': '16 113 791 003Active,/SearchByAbn.aspx?abn=16113791003', 'Name': 'AJR Communications Pty Ltd', 'Type': 'Entity Name', 'Location': '3156         VIC'}, {'ABN': '16 113 791 003Active,/SearchByAbn.aspx?abn=16113791003', 'Name': 'AJR Communications Pty Ltd', 'Type': 'Entity Name', 'Location': '3156         VIC'}, {'ABN': '16 113 791 003Active,/SearchByAbn.aspx?abn=16113791003', 'Name': 'AJR Communications Pty Ltd', 'Type': 'Entity Name', 'Location': '3156         VIC'}, {'ABN': '42 137 558 215Active,/SearchByAbn.aspx?abn=42137558215', 'Name': 'ASR Maintenance Pty Ltd', 'Type': 'Entity Name', 'Location': '4178         QLD'}, {'ABN': '42 137 558 215Active,/SearchByAbn.aspx?abn=42137558215', 'Name': 'ASR Maintenance Pty Ltd', 'Type': 'Entity Name', 'Location': '4178         QLD'}, {'ABN': '42 137 558 215Active,/SearchByAbn.aspx?abn=42137558215', 'Name': 'ASR Maintenance Pty Ltd', 'Type': 'Entity Name', 'Location': '4178         QLD'}, {'ABN': '42 137 558 215Active,/SearchByAbn.aspx?abn=42137558215', 'Name': 'ASR Maintenance Pty Ltd', 'Type': 'Entity Name', 'Location': '4178         QLD'}, {'ABN': '42 137 558 215Active,/SearchByAbn.aspx?abn=42137558215', 'Name': 'ASR Maintenance Pty Ltd', 'Type': 'Entity Name', 'Location': '4178         QLD'}, {'ABN': '42 137 558 215Active,/SearchByAbn.aspx?abn=42137558215', 'Name': 'ASR Maintenance Pty Ltd', 'Type': 'Entity Name', 'Location': '4178         QLD'}, {'ABN': '42 137 558 215Active,/SearchByAbn.aspx?abn=42137558215', 'Name': 'ASR Maintenance Pty Ltd', 'Type': 'Entity Name', 'Location': '4178         QLD'}, {'ABN': '42 137 558 215Active,/SearchByAbn.aspx?abn=42137558215', 'Name': 'ASR Maintenance Pty Ltd', 'Type': 'Entity Name', 'Location': '4178         QLD'}, {'ABN': '42 137 558 215Active,/SearchByAbn.aspx?abn=42137558215', 'Name': 'ASR Maintenance Pty Ltd', 'Type': 'Entity Name', 'Location': '4178         QLD'}, {'ABN': '42 137 558 215Active,/SearchByAbn.aspx?abn=42137558215', 'Name': 'ASR Maintenance Pty Ltd', 'Type': 'Entity Name', 'Location': '4178         QLD'}, {'ABN': '42 137 558 215Active,/SearchByAbn.aspx?abn=42137558215', 'Name': 'ASR Maintenance Pty Ltd', 'Type': 'Entity Name', 'Location': '4178         QLD'}, {'ABN': '42 137 558 215Active,/SearchByAbn.aspx?abn=42137558215', 'Name': 'ASR Maintenance Pty Ltd', 'Type': 'Entity Name', 'Location': '4178         QLD'}, {'ABN': '42 137 558 215Active,/SearchByAbn.aspx?abn=42137558215', 'Name': 'ASR Maintenance Pty Ltd', 'Type': 'Entity Name', 'Location': '4178         QLD'}, {'ABN': '42 137 558 215Active,/SearchByAbn.aspx?abn=42137558215', 'Name': 'ASR Maintenance Pty Ltd', 'Type': 'Entity Name', 'Location': '4178         QLD'}, {'ABN': '42 137 558 215Active,/SearchByAbn.aspx?abn=42137558215', 'Name': 'ASR Maintenance Pty Ltd', 'Type': 'Entity Name', 'Location': '4178         QLD'}, {'ABN': '42 137 558 215Active,/SearchByAbn.aspx?abn=42137558215', 'Name': 'ASR Maintenance Pty Ltd', 'Type': 'Entity Name', 'Location': '4178         QLD'}, {'ABN': '42 137 558 215Active,/SearchByAbn.aspx?abn=42137558215', 'Name': 'ASR Maintenance Pty Ltd', 'Type': 'Entity Name', 'Location': '4178         QLD'}, {'ABN': '42 137 558 215Active,/SearchByAbn.aspx?abn=42137558215', 'Name': 'ASR Maintenance Pty Ltd', 'Type': 'Entity Name', 'Location': '4178         QLD'}, {'ABN': '42 137 558 215Active,/SearchByAbn.aspx?abn=42137558215', 'Name': 'ASR Maintenance Pty Ltd', 'Type': 'Entity Name', 'Location': '4178         QLD'}, {'ABN': '42 137 558 215Active,/SearchByAbn.aspx?abn=42137558215', 'Name': 'ASR Maintenance Pty Ltd', 'Type': 'Entity Name', 'Location': '4178         QLD'}, {'ABN': '42 137 558 215Active,/SearchByAbn.aspx?abn=42137558215', 'Name': 'ASR Maintenance Pty Ltd', 'Type': 'Entity Name', 'Location': '4178         QLD'}, {'ABN': '42 137 558 215Active,/SearchByAbn.aspx?abn=42137558215', 'Name': 'ASR Maintenance Pty Ltd', 'Type': 'Entity Name', 'Location': '4178         QLD'}, {'ABN': '42 137 558 215Active,/SearchByAbn.aspx?abn=42137558215', 'Name': 'ASR Maintenance Pty Ltd', 'Type': 'Entity Name', 'Location': '4178         QLD'}, {'ABN': '42 137 558 215Active,/SearchByAbn.aspx?abn=42137558215', 'Name': 'ASR Maintenance Pty Ltd', 'Type': 'Entity Name', 'Location': '4178         QLD'}, {'ABN': '42 137 558 215Active,/SearchByAbn.aspx?abn=42137558215', 'Name': 'ASR Maintenance Pty Ltd', 'Type': 'Entity Name', 'Location': '4178         QLD'}, {'ABN': '42 137 558 215Active,/SearchByAbn.aspx?abn=42137558215', 'Name': 'ASR Maintenance Pty Ltd', 'Type': 'Entity Name', 'Location': '4178         QLD'}, {'ABN': '42 137 558 215Active,/SearchByAbn.aspx?abn=42137558215', 'Name': 'ASR Maintenance Pty Ltd', 'Type': 'Entity Name', 'Location': '4178         QLD'}, {'ABN': '42 137 558 215Active,/SearchByAbn.aspx?abn=42137558215', 'Name': 'ASR Maintenance Pty Ltd', 'Type': 'Entity Name', 'Location': '4178         QLD'}, {'ABN': '42 137 558 215Active,/SearchByAbn.aspx?abn=42137558215', 'Name': 'ASR Maintenance Pty Ltd', 'Type': 'Entity Name', 'Location': '4178         QLD'}, {'ABN': '42 137 558 215Active,/SearchByAbn.aspx?abn=42137558215', 'Name': 'ASR Maintenance Pty Ltd', 'Type': 'Entity Name', 'Location': '4178         QLD'}, {'ABN': '42 137 558 215Active,/SearchByAbn.aspx?abn=42137558215', 'Name': 'ASR Maintenance Pty Ltd', 'Type': 'Entity Name', 'Location': '4178         QLD'}, {'ABN': '42 137 558 215Active,/SearchByAbn.aspx?abn=42137558215', 'Name': 'ASR Maintenance Pty Ltd', 'Type': 'Entity Name', 'Location': '4178         QLD'}, {'ABN': '42 137 558 215Active,/SearchByAbn.aspx?abn=42137558215', 'Name': 'ASR Maintenance Pty Ltd', 'Type': 'Entity Name', 'Location': '4178         QLD'}, {'ABN': '42 137 558 215Active,/SearchByAbn.aspx?abn=42137558215', 'Name': 'ASR Maintenance Pty Ltd', 'Type': 'Entity Name', 'Location': '4178         QLD'}, {'ABN': '42 137 558 215Active,/SearchByAbn.aspx?abn=42137558215', 'Name': 'ASR Maintenance Pty Ltd', 'Type': 'Entity Name', 'Location': '4178         QLD'}, {'ABN': '42 137 558 215Active,/SearchByAbn.aspx?abn=42137558215', 'Name': 'ASR Maintenance Pty Ltd', 'Type': 'Entity Name', 'Location': '4178         QLD'}, {'ABN': '42 137 558 215Active,/SearchByAbn.aspx?abn=42137558215', 'Name': 'ASR Maintenance Pty Ltd', 'Type': 'Entity Name', 'Location': '4178         QLD'}, {'ABN': '42 137 558 215Active,/SearchByAbn.aspx?abn=42137558215', 'Name': 'ASR Maintenance Pty Ltd', 'Type': 'Entity Name', 'Location': '4178         QLD'}, {'ABN': '42 137 558 215Active,/SearchByAbn.aspx?abn=42137558215', 'Name': 'ASR Maintenance Pty Ltd', 'Type': 'Entity Name', 'Location': '4178         QLD'}, {'ABN': '42 137 558 215Active,/SearchByAbn.aspx?abn=42137558215', 'Name': 'ASR Maintenance Pty Ltd', 'Type': 'Entity Name', 'Location': '4178         QLD'}, {'ABN': '42 137 558 215Active,/SearchByAbn.aspx?abn=42137558215', 'Name': 'ASR Maintenance Pty Ltd', 'Type': 'Entity Name', 'Location': '4178         QLD'}, {'ABN': '25 468 162 215Active,/SearchByAbn.aspx?abn=25468162215', 'Name': 'The Trustee for A & MD Trust', 'Type': 'Entity Name', 'Location': '3122         VIC'}, {'ABN': '25 468 162 215Active,/SearchByAbn.aspx?abn=25468162215', 'Name': 'The Trustee for A & MD Trust', 'Type': 'Entity Name', 'Location': '3122         VIC'}, {'ABN': '25 468 162 215Active,/SearchByAbn.aspx?abn=25468162215', 'Name': 'The Trustee for A & MD Trust', 'Type': 'Entity Name', 'Location': '3122         VIC'}, {'ABN': '25 468 162 215Active,/SearchByAbn.aspx?abn=25468162215', 'Name': 'The Trustee for A & MD Trust', 'Type': 'Entity Name', 'Location': '3122         VIC'}, {'ABN': '25 468 162 215Active,/SearchByAbn.aspx?abn=25468162215', 'Name': 'The Trustee for A & MD Trust', 'Type': 'Entity Name', 'Location': '3122         VIC'}, {'ABN': '25 468 162 215Active,/SearchByAbn.aspx?abn=25468162215', 'Name': 'The Trustee for A & MD Trust', 'Type': 'Entity Name', 'Location': '3122         VIC'}, {'ABN': '25 468 162 215Active,/SearchByAbn.aspx?abn=25468162215', 'Name': 'The Trustee for A & MD Trust', 'Type': 'Entity Name', 'Location': '3122         VIC'}, {'ABN': '25 468 162 215Active,/SearchByAbn.aspx?abn=25468162215', 'Name': 'The Trustee for A & MD Trust', 'Type': 'Entity Name', 'Location': '3122         VIC'}, {'ABN': '25 468 162 215Active,/SearchByAbn.aspx?abn=25468162215', 'Name': 'The Trustee for A & MD Trust', 'Type': 'Entity Name', 'Location': '3122         VIC'}, {'ABN': '25 468 162 215Active,/SearchByAbn.aspx?abn=25468162215', 'Name': 'The Trustee for A & MD Trust', 'Type': 'Entity Name', 'Location': '3122         VIC'}, {'ABN': '25 468 162 215Active,/SearchByAbn.aspx?abn=25468162215', 'Name': 'The Trustee for A & MD Trust', 'Type': 'Entity Name', 'Location': '3122         VIC'}, {'ABN': '25 468 162 215Active,/SearchByAbn.aspx?abn=25468162215', 'Name': 'The Trustee for A & MD Trust', 'Type': 'Entity Name', 'Location': '3122         VIC'}, {'ABN': '25 468 162 215Active,/SearchByAbn.aspx?abn=25468162215', 'Name': 'The Trustee for A & MD Trust', 'Type': 'Entity Name', 'Location': '3122         VIC'}, {'ABN': '25 468 162 215Active,/SearchByAbn.aspx?abn=25468162215', 'Name': 'The Trustee for A & MD Trust', 'Type': 'Entity Name', 'Location': '3122         VIC'}, {'ABN': '25 468 162 215Active,/SearchByAbn.aspx?abn=25468162215', 'Name': 'The Trustee for A & MD Trust', 'Type': 'Entity Name', 'Location': '3122         VIC'}, {'ABN': '25 468 162 215Active,/SearchByAbn.aspx?abn=25468162215', 'Name': 'The Trustee for A & MD Trust', 'Type': 'Entity Name', 'Location': '3122         VIC'}, {'ABN': '25 468 162 215Active,/SearchByAbn.aspx?abn=25468162215', 'Name': 'The Trustee for A & MD Trust', 'Type': 'Entity Name', 'Location': '3122         VIC'}, {'ABN': '25 468 162 215Active,/SearchByAbn.aspx?abn=25468162215', 'Name': 'The Trustee for A & MD Trust', 'Type': 'Entity Name', 'Location': '3122         VIC'}, {'ABN': '25 468 162 215Active,/SearchByAbn.aspx?abn=25468162215', 'Name': 'The Trustee for A & MD Trust', 'Type': 'Entity Name', 'Location': '3122         VIC'}, {'ABN': '25 468 162 215Active,/SearchByAbn.aspx?abn=25468162215', 'Name': 'The Trustee for A & MD Trust', 'Type': 'Entity Name', 'Location': '3122         VIC'}, {'ABN': '25 468 162 215Active,/SearchByAbn.aspx?abn=25468162215', 'Name': 'The Trustee for A & MD Trust', 'Type': 'Entity Name', 'Location': '3122         VIC'}, {'ABN': '25 468 162 215Active,/SearchByAbn.aspx?abn=25468162215', 'Name': 'The Trustee for A & MD Trust', 'Type': 'Entity Name', 'Location': '3122         VIC'}, {'ABN': '25 468 162 215Active,/SearchByAbn.aspx?abn=25468162215', 'Name': 'The Trustee for A & MD Trust', 'Type': 'Entity Name', 'Location': '3122         VIC'}, {'ABN': '25 468 162 215Active,/SearchByAbn.aspx?abn=25468162215', 'Name': 'The Trustee for A & MD Trust', 'Type': 'Entity Name', 'Location': '3122         VIC'}, {'ABN': '25 468 162 215Active,/SearchByAbn.aspx?abn=25468162215', 'Name': 'The Trustee for A & MD Trust', 'Type': 'Entity Name', 'Location': '3122         VIC'}, {'ABN': '25 468 162 215Active,/SearchByAbn.aspx?abn=25468162215', 'Name': 'The Trustee for A & MD Trust', 'Type': 'Entity Name', 'Location': '3122         VIC'}, {'ABN': '25 468 162 215Active,/SearchByAbn.aspx?abn=25468162215', 'Name': 'The Trustee for A & MD Trust', 'Type': 'Entity Name', 'Location': '3122         VIC'}, {'ABN': '25 468 162 215Active,/SearchByAbn.aspx?abn=25468162215', 'Name': 'The Trustee for A & MD Trust', 'Type': 'Entity Name', 'Location': '3122         VIC'}, {'ABN': '25 468 162 215Active,/SearchByAbn.aspx?abn=25468162215', 'Name': 'The Trustee for A & MD Trust', 'Type': 'Entity Name', 'Location': '3122         VIC'}, {'ABN': '25 468 162 215Active,/SearchByAbn.aspx?abn=25468162215', 'Name': 'The Trustee for A & MD Trust', 'Type': 'Entity Name', 'Location': '3122         VIC'}, {'ABN': '25 468 162 215Active,/SearchByAbn.aspx?abn=25468162215', 'Name': 'The Trustee for A & MD Trust', 'Type': 'Entity Name', 'Location': '3122         VIC'}, {'ABN': '25 468 162 215Active,/SearchByAbn.aspx?abn=25468162215', 'Name': 'The Trustee for A & MD Trust', 'Type': 'Entity Name', 'Location': '3122         VIC'}, {'ABN': '25 468 162 215Active,/SearchByAbn.aspx?abn=25468162215', 'Name': 'The Trustee for A & MD Trust', 'Type': 'Entity Name', 'Location': '3122         VIC'}, {'ABN': '25 468 162 215Active,/SearchByAbn.aspx?abn=25468162215', 'Name': 'The Trustee for A & MD Trust', 'Type': 'Entity Name', 'Location': '3122         VIC'}, {'ABN': '25 468 162 215Active,/SearchByAbn.aspx?abn=25468162215', 'Name': 'The Trustee for A & MD Trust', 'Type': 'Entity Name', 'Location': '3122         VIC'}, {'ABN': '25 468 162 215Active,/SearchByAbn.aspx?abn=25468162215', 'Name': 'The Trustee for A & MD Trust', 'Type': 'Entity Name', 'Location': '3122         VIC'}, {'ABN': '25 468 162 215Active,/SearchByAbn.aspx?abn=25468162215', 'Name': 'The Trustee for A & MD Trust', 'Type': 'Entity Name', 'Location': '3122         VIC'}, {'ABN': '25 468 162 215Active,/SearchByAbn.aspx?abn=25468162215', 'Name': 'The Trustee for A & MD Trust', 'Type': 'Entity Name', 'Location': '3122         VIC'}, {'ABN': '25 468 162 215Active,/SearchByAbn.aspx?abn=25468162215', 'Name': 'The Trustee for A & MD Trust', 'Type': 'Entity Name', 'Location': '3122         VIC'}, {'ABN': '25 468 162 215Active,/SearchByAbn.aspx?abn=25468162215', 'Name': 'The Trustee for A & MD Trust', 'Type': 'Entity Name', 'Location': '3122         VIC'}, {'ABN': '25 468 162 215Active,/SearchByAbn.aspx?abn=25468162215', 'Name': 'The Trustee for A & MD Trust', 'Type': 'Entity Name', 'Location': '3122         VIC'}, {'ABN': '82 442 434 516Active,/SearchByAbn.aspx?abn=82442434516', 'Name': 'A - TEN FOODS', 'Type': 'Business Name', 'Location': '3055         VIC'}, {'ABN': '82 442 434 516Active,/SearchByAbn.aspx?abn=82442434516', 'Name': 'A - TEN FOODS', 'Type': 'Business Name', 'Location': '3055         VIC'}, {'ABN': '82 442 434 516Active,/SearchByAbn.aspx?abn=82442434516', 'Name': 'A - TEN FOODS', 'Type': 'Business Name', 'Location': '3055         VIC'}, {'ABN': '82 442 434 516Active,/SearchByAbn.aspx?abn=82442434516', 'Name': 'A - TEN FOODS', 'Type': 'Business Name', 'Location': '3055         VIC'}, {'ABN': '82 442 434 516Active,/SearchByAbn.aspx?abn=82442434516', 'Name': 'A - TEN FOODS', 'Type': 'Business Name', 'Location': '3055         VIC'}, {'ABN': '82 442 434 516Active,/SearchByAbn.aspx?abn=82442434516', 'Name': 'A - TEN FOODS', 'Type': 'Business Name', 'Location': '3055         VIC'}, {'ABN': '82 442 434 516Active,/SearchByAbn.aspx?abn=82442434516', 'Name': 'A - TEN FOODS', 'Type': 'Business Name', 'Location': '3055         VIC'}, {'ABN': '82 442 434 516Active,/SearchByAbn.aspx?abn=82442434516', 'Name': 'A - TEN FOODS', 'Type': 'Business Name', 'Location': '3055         VIC'}, {'ABN': '82 442 434 516Active,/SearchByAbn.aspx?abn=82442434516', 'Name': 'A - TEN FOODS', 'Type': 'Business Name', 'Location': '3055         VIC'}, {'ABN': '82 442 434 516Active,/SearchByAbn.aspx?abn=82442434516', 'Name': 'A - TEN FOODS', 'Type': 'Business Name', 'Location': '3055         VIC'}, {'ABN': '82 442 434 516Active,/SearchByAbn.aspx?abn=82442434516', 'Name': 'A - TEN FOODS', 'Type': 'Business Name', 'Location': '3055         VIC'}, {'ABN': '82 442 434 516Active,/SearchByAbn.aspx?abn=82442434516', 'Name': 'A - TEN FOODS', 'Type': 'Business Name', 'Location': '3055         VIC'}, {'ABN': '82 442 434 516Active,/SearchByAbn.aspx?abn=82442434516', 'Name': 'A - TEN FOODS', 'Type': 'Business Name', 'Location': '3055         VIC'}, {'ABN': '82 442 434 516Active,/SearchByAbn.aspx?abn=82442434516', 'Name': 'A - TEN FOODS', 'Type': 'Business Name', 'Location': '3055         VIC'}, {'ABN': '82 442 434 516Active,/SearchByAbn.aspx?abn=82442434516', 'Name': 'A - TEN FOODS', 'Type': 'Business Name', 'Location': '3055         VIC'}, {'ABN': '82 442 434 516Active,/SearchByAbn.aspx?abn=82442434516', 'Name': 'A - TEN FOODS', 'Type': 'Business Name', 'Location': '3055         VIC'}, {'ABN': '82 442 434 516Active,/SearchByAbn.aspx?abn=82442434516', 'Name': 'A - TEN FOODS', 'Type': 'Business Name', 'Location': '3055         VIC'}, {'ABN': '82 442 434 516Active,/SearchByAbn.aspx?abn=82442434516', 'Name': 'A - TEN FOODS', 'Type': 'Business Name', 'Location': '3055         VIC'}, {'ABN': '82 442 434 516Active,/SearchByAbn.aspx?abn=82442434516', 'Name': 'A - TEN FOODS', 'Type': 'Business Name', 'Location': '3055         VIC'}, {'ABN': '82 442 434 516Active,/SearchByAbn.aspx?abn=82442434516', 'Name': 'A - TEN FOODS', 'Type': 'Business Name', 'Location': '3055         VIC'}, {'ABN': '82 442 434 516Active,/SearchByAbn.aspx?abn=82442434516', 'Name': 'A - TEN FOODS', 'Type': 'Business Name', 'Location': '3055         VIC'}, {'ABN': '82 442 434 516Active,/SearchByAbn.aspx?abn=82442434516', 'Name': 'A - TEN FOODS', 'Type': 'Business Name', 'Location': '3055         VIC'}, {'ABN': '82 442 434 516Active,/SearchByAbn.aspx?abn=82442434516', 'Name': 'A - TEN FOODS', 'Type': 'Business Name', 'Location': '3055         VIC'}, {'ABN': '82 442 434 516Active,/SearchByAbn.aspx?abn=82442434516', 'Name': 'A - TEN FOODS', 'Type': 'Business Name', 'Location': '3055         VIC'}, {'ABN': '82 442 434 516Active,/SearchByAbn.aspx?abn=82442434516', 'Name': 'A - TEN FOODS', 'Type': 'Business Name', 'Location': '3055         VIC'}, {'ABN': '82 442 434 516Active,/SearchByAbn.aspx?abn=82442434516', 'Name': 'A - TEN FOODS', 'Type': 'Business Name', 'Location': '3055         VIC'}, {'ABN': '82 442 434 516Active,/SearchByAbn.aspx?abn=82442434516', 'Name': 'A - TEN FOODS', 'Type': 'Business Name', 'Location': '3055         VIC'}, {'ABN': '82 442 434 516Active,/SearchByAbn.aspx?abn=82442434516', 'Name': 'A - TEN FOODS', 'Type': 'Business Name', 'Location': '3055         VIC'}, {'ABN': '82 442 434 516Active,/SearchByAbn.aspx?abn=82442434516', 'Name': 'A - TEN FOODS', 'Type': 'Business Name', 'Location': '3055         VIC'}, {'ABN': '82 442 434 516Active,/SearchByAbn.aspx?abn=82442434516', 'Name': 'A - TEN FOODS', 'Type': 'Business Name', 'Location': '3055         VIC'}, {'ABN': '82 442 434 516Active,/SearchByAbn.aspx?abn=82442434516', 'Name': 'A - TEN FOODS', 'Type': 'Business Name', 'Location': '3055         VIC'}, {'ABN': '82 442 434 516Active,/SearchByAbn.aspx?abn=82442434516', 'Name': 'A - TEN FOODS', 'Type': 'Business Name', 'Location': '3055         VIC'}, {'ABN': '82 442 434 516Active,/SearchByAbn.aspx?abn=82442434516', 'Name': 'A - TEN FOODS', 'Type': 'Business Name', 'Location': '3055         VIC'}, {'ABN': '82 442 434 516Active,/SearchByAbn.aspx?abn=82442434516', 'Name': 'A - TEN FOODS', 'Type': 'Business Name', 'Location': '3055         VIC'}, {'ABN': '82 442 434 516Active,/SearchByAbn.aspx?abn=82442434516', 'Name': 'A - TEN FOODS', 'Type': 'Business Name', 'Location': '3055         VIC'}, {'ABN': '82 442 434 516Active,/SearchByAbn.aspx?abn=82442434516', 'Name': 'A - TEN FOODS', 'Type': 'Business Name', 'Location': '3055         VIC'}, {'ABN': '82 442 434 516Active,/SearchByAbn.aspx?abn=82442434516', 'Name': 'A - TEN FOODS', 'Type': 'Business Name', 'Location': '3055         VIC'}, {'ABN': '82 442 434 516Active,/SearchByAbn.aspx?abn=82442434516', 'Name': 'A - TEN FOODS', 'Type': 'Business Name', 'Location': '3055         VIC'}, {'ABN': '82 442 434 516Active,/SearchByAbn.aspx?abn=82442434516', 'Name': 'A - TEN FOODS', 'Type': 'Business Name', 'Location': '3055         VIC'}, {'ABN': '82 442 434 516Active,/SearchByAbn.aspx?abn=82442434516', 'Name': 'A - TEN FOODS', 'Type': 'Business Name', 'Location': '3055         VIC'}, {'ABN': '82 442 434 516Active,/SearchByAbn.aspx?abn=82442434516', 'Name': 'A - TEN FOODS', 'Type': 'Business Name', 'Location': '3055         VIC'}]\n"
     ]
    }
   ],
   "source": [
    "def TabToDicLst(tabSoup): \n",
    "    trs = tabSoup.findAll('tr'); \n",
    "    headerLst = [re.sub('[^0-9a-zA-Z]',\"\",th.getText()) for th in trs[0].findAll('th')]; \n",
    "    temp = {}; \n",
    "    retLst = []; \n",
    "    for tr in trs : \n",
    "        for idx,td in enumerate(tr.findAll('td')) : \n",
    "            temp[headerLst[idx]] = td.getText().replace(\"\\n\",\"\").replace(\"\\n\",\"\").strip(); \n",
    "            anchors = td.findAll(\"a\"); \n",
    "            if len(anchors) : \n",
    "                temp[headerLst[idx]]+= \",\"+anchors[0][\"href\"]\n",
    "        retLst.append(temp); \n",
    "    return retLst; \n",
    "\n",
    "def DataExtractor(page) : \n",
    "    if type(page) != type(BeautifulSoup()): \n",
    "        page = BeautifulSoup(page); \n",
    "    tab = page.findAll(id=\"PartyListView_GridViewParties\")[0]; \n",
    "    rsl = TabToDicLst(tab); \n",
    "    return rsl; \n",
    "def getData(searchKey) :\n",
    "    dataLst = []; \n",
    "    prams = None; \n",
    "    baseUrl = \"https://abr.business.gov.au/SearchByName.aspx?SearchText=%s\" %searchKey; \n",
    "    s = requests.Session(); \n",
    "    res = s.get(baseUrl,verify=False,data=prams); \n",
    "    while True : \n",
    "        soup = BeautifulSoup(res.text); \n",
    "        __EVENTTARGET = soup.findAll(id=\"ButtonNext\");\n",
    "        if len(__EVENTTARGET)==0 : \n",
    "            break; \n",
    "        __EVENTTARGET = __EVENTTARGET[0][\"name\"];\n",
    "        prams = {\n",
    "            \"__EVENTTARGET\" : __EVENTTARGET,\n",
    "            \"__EVENTARGUMENT\" : \"\",\n",
    "            \"__VIEWSTATE\" : soup.findAll(id=\"__VIEWSTATE\")[0][\"value\"],\n",
    "            \"__VIEWSTATEGENERATOR\" :  soup.findAll(id=\"__VIEWSTATEGENERATOR\")[0][\"value\"],\n",
    "            \"__EVENTVALIDATION\" :  soup.findAll(id=\"__EVENTVALIDATION\")[0][\"value\"],\t\n",
    "        }\n",
    "        sleep(10); \n",
    "        res = s.post(baseUrl,verify=False,data=prams)\n",
    "        data = DataExtractor(res.text)\n",
    "        dataLst +=data; \n",
    "        with open(\"res.html\",\"w\") as f : \n",
    "            f.write(res.text); \n",
    "    return dataLst; \n",
    "print(getData(\"a\"))"
   ]
  },
  {
   "cell_type": "code",
   "execution_count": 33,
   "metadata": {},
   "outputs": [
    {
     "name": "stderr",
     "output_type": "stream",
     "text": [
      "C:\\ProgramData\\Anaconda3\\lib\\site-packages\\urllib3\\connectionpool.py:858: InsecureRequestWarning: Unverified HTTPS request is being made. Adding certificate verification is strongly advised. See: https://urllib3.readthedocs.io/en/latest/advanced-usage.html#ssl-warnings\n",
      "  InsecureRequestWarning)\n",
      "C:\\ProgramData\\Anaconda3\\lib\\site-packages\\bs4\\__init__.py:181: UserWarning: No parser was explicitly specified, so I'm using the best available HTML parser for this system (\"lxml\"). This usually isn't a problem, but if you run this code on another system, or in a different virtual environment, it may use a different parser and behave differently.\n",
      "\n",
      "The code that caused this warning is on line 193 of the file C:\\ProgramData\\Anaconda3\\lib\\runpy.py. To get rid of this warning, change code that looks like this:\n",
      "\n",
      " BeautifulSoup(YOUR_MARKUP})\n",
      "\n",
      "to this:\n",
      "\n",
      " BeautifulSoup(YOUR_MARKUP, \"lxml\")\n",
      "\n",
      "  markup_type=markup_type))\n",
      "C:\\ProgramData\\Anaconda3\\lib\\site-packages\\urllib3\\connectionpool.py:858: InsecureRequestWarning: Unverified HTTPS request is being made. Adding certificate verification is strongly advised. See: https://urllib3.readthedocs.io/en/latest/advanced-usage.html#ssl-warnings\n",
      "  InsecureRequestWarning)\n"
     ]
    }
   ],
   "source": [
    "soup = BeautifulSoup(res.text); \n",
    "prams = {\n",
    "\t\"__EVENTTARGET\" : soup.findAll(id=\"ButtonNext\")[0][\"name\"],\n",
    "\t\"__EVENTARGUMENT\" : \"\",\n",
    "\t\"__VIEWSTATE\" : soup.findAll(id=\"__VIEWSTATE\")[0][\"value\"],\n",
    "\t\"__VIEWSTATEGENERATOR\" :  soup.findAll(id=\"__VIEWSTATEGENERATOR\")[0][\"value\"],\n",
    "\t\"__EVENTVALIDATION\" :  soup.findAll(id=\"__EVENTVALIDATION\")[0][\"value\"],\t\n",
    "}"
   ]
  },
  {
   "cell_type": "code",
   "execution_count": 27,
   "metadata": {
    "collapsed": true
   },
   "outputs": [],
   "source": [
    "with open(\"res2.html\",'w') as f : \n",
    "    f.write(res2.text)"
   ]
  },
  {
   "cell_type": "code",
   "execution_count": 10,
   "metadata": {
    "collapsed": true
   },
   "outputs": [],
   "source": [
    "upper_a = ['A', 'B', 'C', 'D', 'E', 'F', 'G', 'H', 'I', 'J', 'K', 'L', 'M', 'N', 'O', 'P', 'Q', 'R', 'S', 'T', 'U', 'V', 'W', 'X', 'Y', 'Z']\n",
    "num = [' ','0', '1', '2', '3', '4', '5', '6', '7', '8', '9']\n",
    "\n",
    "outputLst = [];  \n",
    "all = []\n",
    "all = lower_a + upper_a + num\n",
    "\n",
    "for r in range(3, 4):\n",
    "    for s in itertools.product(all, repeat=r):\n",
    "         outputLst.append(''.join(s))"
   ]
  },
  {
   "cell_type": "code",
   "execution_count": 12,
   "metadata": {},
   "outputs": [
    {
     "data": {
      "text/plain": [
       "'999'"
      ]
     },
     "execution_count": 12,
     "metadata": {},
     "output_type": "execute_result"
    }
   ],
   "source": [
    "outputLst[-1]"
   ]
  },
  {
   "cell_type": "code",
   "execution_count": null,
   "metadata": {
    "collapsed": true
   },
   "outputs": [],
   "source": []
  }
 ],
 "metadata": {
  "kernelspec": {
   "display_name": "Python 3",
   "language": "python",
   "name": "python3"
  },
  "language_info": {
   "codemirror_mode": {
    "name": "ipython",
    "version": 3
   },
   "file_extension": ".py",
   "mimetype": "text/x-python",
   "name": "python",
   "nbconvert_exporter": "python",
   "pygments_lexer": "ipython3",
   "version": "3.6.3"
  }
 },
 "nbformat": 4,
 "nbformat_minor": 2
}
