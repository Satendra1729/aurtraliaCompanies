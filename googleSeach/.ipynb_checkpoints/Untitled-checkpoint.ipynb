{
 "cells": [
  {
   "cell_type": "code",
   "execution_count": 11,
   "metadata": {
    "collapsed": true
   },
   "outputs": [],
   "source": [
    "import time\n",
    "from selenium import webdriver\n",
    "from selenium.webdriver.common.by import By\n",
    "from selenium.webdriver.support.ui import WebDriverWait\n",
    "from selenium.webdriver.support import expected_conditions as EC\n",
    "from selenium.webdriver.common.keys import Keys\n",
    "from bs4 import BeautifulSoup;  \n",
    "\n",
    "browser = webdriver.Firefox()\n",
    "\n"
   ]
  },
  {
   "cell_type": "code",
   "execution_count": 14,
   "metadata": {
    "collapsed": true
   },
   "outputs": [],
   "source": [
    "lines = []; \n",
    "with open(\"inputData.csv\",'r') as f : \n",
    "    lines = [l.split(\",\")[1]+\" australia\" for l in f.readlines()]; \n",
    "AllData = []; "
   ]
  },
  {
   "cell_type": "code",
   "execution_count": null,
   "metadata": {},
   "outputs": [
    {
     "name": "stderr",
     "output_type": "stream",
     "text": [
      "C:\\ProgramData\\Anaconda3\\lib\\site-packages\\bs4\\__init__.py:181: UserWarning: No parser was explicitly specified, so I'm using the best available HTML parser for this system (\"lxml\"). This usually isn't a problem, but if you run this code on another system, or in a different virtual environment, it may use a different parser and behave differently.\n",
      "\n",
      "The code that caused this warning is on line 193 of the file C:\\ProgramData\\Anaconda3\\lib\\runpy.py. To get rid of this warning, change code that looks like this:\n",
      "\n",
      " BeautifulSoup(YOUR_MARKUP})\n",
      "\n",
      "to this:\n",
      "\n",
      " BeautifulSoup(YOUR_MARKUP, \"lxml\")\n",
      "\n",
      "  markup_type=markup_type))\n"
     ]
    }
   ],
   "source": [
    "def search(txt) : \n",
    "    browser.get('http://www.google.com')\n",
    "    search = browser.find_element_by_name('q')\n",
    "    search.clear(); \n",
    "    search.send_keys(txt)\n",
    "    search.send_keys(Keys.RETURN) # hit return after you enter search text\n",
    "    # hit return after you enter search text\n",
    "    time.sleep(5) # sleep for 5 seconds so you can see the results\n",
    "    pageCount = 10; \n",
    "    for i in range(pageCount): \n",
    "        with open(\"res.html\",'w',errors= \"ignore\") as f : \n",
    "            f.write(browser.page_source); \n",
    "        soup = BeautifulSoup(browser.page_source); \n",
    "        rcs = soup.findAll(class_=\"rc\"); \n",
    "        retLst = []; \n",
    "        for rc in rcs : \n",
    "            retDic = {}; \n",
    "            retDic[\"searchKey\"] = txt; \n",
    "            try : \n",
    "                retDic[\"heading\"] = rc.findAll(class_=\"r\")[0].findAll(\"a\")[0].getText()\n",
    "                retDic[\"link\"] = rc.findAll(class_=\"s\")[0].findAll(class_= \"_Rm\")[0].getText();\n",
    "                retDic[\"description\"] = rc.findAll(class_=\"s\")[0].findAll(class_= \"st\")[0].getText();  \n",
    "                retLst.append(retDic);\n",
    "            except : \n",
    "                pass; \n",
    "        time.sleep(5)\n",
    "        while True :  \n",
    "            try : \n",
    "                nextKey = browser.find_element_by_id(\"pnnext\"); \n",
    "                nextKey.click();\n",
    "                break; \n",
    "            except : \n",
    "                sleep(3); \n",
    "        \n",
    "    return retLst; \n",
    "    \n",
    "for lob in lines[1:] :     \n",
    "    lst = search(lob);\n",
    "    AllData += lst; "
   ]
  },
  {
   "cell_type": "code",
   "execution_count": 56,
   "metadata": {
    "collapsed": true
   },
   "outputs": [],
   "source": [
    "rslline = []; \n",
    "headers = list(AllData[0].keys()); \n",
    "for ele in AllData : \n",
    "    line =\"\"; \n",
    "    for header in headers : \n",
    "        line += \",\"+ele[header].replace(\",\",\";\"); \n",
    "    rslline.append(line[1:]); \n",
    "with open(\"output.csv\",'w') as f : \n",
    "    f.write('\\n'.join(rslline))"
   ]
  },
  {
   "cell_type": "code",
   "execution_count": 23,
   "metadata": {},
   "outputs": [
    {
     "name": "stderr",
     "output_type": "stream",
     "text": [
      "C:\\ProgramData\\Anaconda3\\lib\\site-packages\\bs4\\__init__.py:181: UserWarning: No parser was explicitly specified, so I'm using the best available HTML parser for this system (\"lxml\"). This usually isn't a problem, but if you run this code on another system, or in a different virtual environment, it may use a different parser and behave differently.\n",
      "\n",
      "The code that caused this warning is on line 193 of the file C:\\ProgramData\\Anaconda3\\lib\\runpy.py. To get rid of this warning, change code that looks like this:\n",
      "\n",
      " BeautifulSoup(YOUR_MARKUP})\n",
      "\n",
      "to this:\n",
      "\n",
      " BeautifulSoup(YOUR_MARKUP, \"lxml\")\n",
      "\n",
      "  markup_type=markup_type))\n"
     ]
    }
   ],
   "source": [
    "soup = None; \n",
    "with open('res.html','r') as f : \n",
    "    soup = BeautifulSoup(f.read()); "
   ]
  },
  {
   "cell_type": "code",
   "execution_count": 7,
   "metadata": {},
   "outputs": [
    {
     "data": {
      "text/plain": [
       "10"
      ]
     },
     "execution_count": 7,
     "metadata": {},
     "output_type": "execute_result"
    }
   ],
   "source": [
    "AllData"
   ]
  },
  {
   "cell_type": "code",
   "execution_count": 30,
   "metadata": {
    "collapsed": true
   },
   "outputs": [],
   "source": [
    "heading = rcs[0].findAll(class_=\"r\")[0].findAll(\"a\")[0].getText()\n",
    "link = rcs[0].findAll(class_=\"s\")[0].findAll(class_= \"_Rm\")[0].getText();\n",
    "description = rcs[0].findAll(class_=\"s\")[0].findAll(class_= \"st\")[0].getText() "
   ]
  },
  {
   "cell_type": "code",
   "execution_count": 32,
   "metadata": {
    "collapsed": true
   },
   "outputs": [],
   "source": []
  },
  {
   "cell_type": "code",
   "execution_count": 36,
   "metadata": {
    "collapsed": true
   },
   "outputs": [],
   "source": []
  },
  {
   "cell_type": "code",
   "execution_count": 37,
   "metadata": {},
   "outputs": [
    {
     "data": {
      "text/plain": [
       "\"business.gov.au offers you simple and convenient access to all the government information, forms and services you need. It's a whole-of-government service providing essential information on planning, starting and growing your business.\""
      ]
     },
     "execution_count": 37,
     "metadata": {},
     "output_type": "execute_result"
    }
   ],
   "source": [
    "description"
   ]
  },
  {
   "cell_type": "code",
   "execution_count": null,
   "metadata": {
    "collapsed": true
   },
   "outputs": [],
   "source": []
  }
 ],
 "metadata": {
  "kernelspec": {
   "display_name": "Python 3",
   "language": "python",
   "name": "python3"
  },
  "language_info": {
   "codemirror_mode": {
    "name": "ipython",
    "version": 3
   },
   "file_extension": ".py",
   "mimetype": "text/x-python",
   "name": "python",
   "nbconvert_exporter": "python",
   "pygments_lexer": "ipython3",
   "version": "3.6.3"
  }
 },
 "nbformat": 4,
 "nbformat_minor": 2
}
