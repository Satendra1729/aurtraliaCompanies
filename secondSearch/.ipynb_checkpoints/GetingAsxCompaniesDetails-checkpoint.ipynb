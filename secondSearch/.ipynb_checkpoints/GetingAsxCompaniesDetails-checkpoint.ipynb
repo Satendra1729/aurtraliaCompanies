{
 "cells": [
  {
   "cell_type": "code",
   "execution_count": 58,
   "metadata": {
    "collapsed": true
   },
   "outputs": [],
   "source": [
    "import requests; \n",
    "from bs4 import BeautifulSoup; \n",
    "import json; \n",
    "from copy import deepcopy\n",
    "outputFolder = \"jsonOutput\"; \n",
    "directorUrl = \"http://www.asx.com.au/b2c-api/1/company/{code}/people?callback=angular.callbacks._a\"; \n",
    "summaryUrl = \"http://www.asx.com.au/b2c-api/1/company/{code}?fields=primary_share,latest_annual_reports,last_dividend,primary_share.indices&callback=angular.callbacks._0\""
   ]
  },
  {
   "cell_type": "code",
   "execution_count": 50,
   "metadata": {
    "collapsed": false
   },
   "outputs": [],
   "source": [
    "def getData(keyword):\n",
    "    retData = {}; \n",
    "    res = requests.get(summaryUrl.replace(\"{code}\",keyword))\n",
    "    j = res.text.replace(\"angular.callbacks._0(\",\"\")[0:-2]\n",
    "    jData = json.loads(j)\n",
    "    retData[\"summary\"] = jData; \n",
    "    \n",
    "    res = requests.get(detailsUrl.replace(\"{code}\",keyword))\n",
    "    j = res.text.replace(\"angular.callbacks._a(\",\"\")[0:-2]\n",
    "    jData = json.loads(j)\n",
    "    retData[\"details\"] = jData; \n",
    "    return retData; "
   ]
  },
  {
   "cell_type": "code",
   "execution_count": 63,
   "metadata": {
    "collapsed": false
   },
   "outputs": [
    {
     "ename": "FileNotFoundError",
     "evalue": "[Errno 2] No such file or directory: 'jsonOutput/SPDR S&P/ASX 200 FUND.json'",
     "output_type": "error",
     "traceback": [
      "\u001b[0;31m---------------------------------------------------------------------------\u001b[0m",
      "\u001b[0;31mFileNotFoundError\u001b[0m                         Traceback (most recent call last)",
      "\u001b[0;32m<ipython-input-63-5e1e13387e77>\u001b[0m in \u001b[0;36m<module>\u001b[0;34m()\u001b[0m\n\u001b[1;32m      7\u001b[0m     \u001b[0mdata\u001b[0m \u001b[0;34m=\u001b[0m \u001b[0mdeepcopy\u001b[0m\u001b[0;34m(\u001b[0m\u001b[0mele\u001b[0m\u001b[0;34m)\u001b[0m\u001b[0;34m\u001b[0m\u001b[0m\n\u001b[1;32m      8\u001b[0m     \u001b[0mdata\u001b[0m\u001b[0;34m[\u001b[0m\u001b[0;34m\"data\"\u001b[0m\u001b[0;34m]\u001b[0m\u001b[0;34m=\u001b[0m \u001b[0mgetData\u001b[0m\u001b[0;34m(\u001b[0m\u001b[0mele\u001b[0m\u001b[0;34m[\u001b[0m\u001b[0;34m\"ASXcode\"\u001b[0m\u001b[0;34m]\u001b[0m\u001b[0;34m)\u001b[0m\u001b[0;34m;\u001b[0m\u001b[0;34m\u001b[0m\u001b[0m\n\u001b[0;32m----> 9\u001b[0;31m     \u001b[0;32mwith\u001b[0m \u001b[0mopen\u001b[0m\u001b[0;34m(\u001b[0m\u001b[0;34m\"%s/%s.json\"\u001b[0m \u001b[0;34m%\u001b[0m\u001b[0;34m(\u001b[0m\u001b[0moutputFolder\u001b[0m\u001b[0;34m,\u001b[0m\u001b[0mdata\u001b[0m\u001b[0;34m[\u001b[0m\u001b[0;34m\"Companyname\"\u001b[0m\u001b[0;34m]\u001b[0m\u001b[0;34m)\u001b[0m\u001b[0;34m,\u001b[0m\u001b[0;34m'w'\u001b[0m\u001b[0;34m)\u001b[0m \u001b[0;32mas\u001b[0m \u001b[0mf\u001b[0m \u001b[0;34m:\u001b[0m\u001b[0;34m\u001b[0m\u001b[0m\n\u001b[0m\u001b[1;32m     10\u001b[0m         \u001b[0mjson\u001b[0m\u001b[0;34m.\u001b[0m\u001b[0mdump\u001b[0m\u001b[0;34m(\u001b[0m\u001b[0mdata\u001b[0m\u001b[0;34m,\u001b[0m\u001b[0mf\u001b[0m\u001b[0;34m,\u001b[0m\u001b[0mindent\u001b[0m\u001b[0;34m=\u001b[0m\u001b[0;36m4\u001b[0m\u001b[0;34m)\u001b[0m\u001b[0;34m;\u001b[0m\u001b[0;34m\u001b[0m\u001b[0m\n",
      "\u001b[0;31mFileNotFoundError\u001b[0m: [Errno 2] No such file or directory: 'jsonOutput/SPDR S&P/ASX 200 FUND.json'"
     ]
    }
   ],
   "source": [
    "j =[]; \n",
    "with open(\"allCompanies.json\") as f : \n",
    "    j = json.load(f); \n",
    "for ele in j : \n",
    "    if not(ele): \n",
    "        continue; \n",
    "    data = deepcopy(ele)\n",
    "    data[\"data\"]= getData(ele[\"ASXcode\"]); \n",
    "    with open(\"%s/%s.json\" %(outputFolder,data[\"Companyname\"].replace(\"&\",\"\")),'w') as f : \n",
    "        json.dump(data,f,indent=4); "
   ]
  },
  {
   "cell_type": "code",
   "execution_count": 57,
   "metadata": {
    "collapsed": false
   },
   "outputs": [
    {
     "data": {
      "text/plain": [
       "{'ASXcode': '1PG',\n",
       " 'Companyname': '1-PAGE LIMITED',\n",
       " 'GICSindustrygroup': 'Software & Services',\n",
       " 'herf': 'http://www.asx.com.au/asx/share-price-research/company/1PG'}"
      ]
     },
     "execution_count": 57,
     "metadata": {},
     "output_type": "execute_result"
    }
   ],
   "source": [
    "j[2]"
   ]
  },
  {
   "cell_type": "code",
   "execution_count": null,
   "metadata": {
    "collapsed": true
   },
   "outputs": [],
   "source": []
  }
 ],
 "metadata": {
  "anaconda-cloud": {},
  "kernelspec": {
   "display_name": "Python [conda root]",
   "language": "python",
   "name": "conda-root-py"
  },
  "language_info": {
   "codemirror_mode": {
    "name": "ipython",
    "version": 3
   },
   "file_extension": ".py",
   "mimetype": "text/x-python",
   "name": "python",
   "nbconvert_exporter": "python",
   "pygments_lexer": "ipython3",
   "version": "3.5.2"
  }
 },
 "nbformat": 4,
 "nbformat_minor": 1
}
