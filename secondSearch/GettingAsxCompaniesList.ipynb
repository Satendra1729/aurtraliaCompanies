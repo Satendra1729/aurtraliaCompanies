{
 "cells": [
  {
   "cell_type": "code",
   "execution_count": 23,
   "metadata": {
    "collapsed": true
   },
   "outputs": [],
   "source": [
    "from selenium import webdriver\n",
    "from selenium.webdriver.common.keys import Keys\n",
    "import string; \n",
    "from bs4 import BeautifulSoup; \n",
    "import re; \n",
    "import json; \n",
    "from time import sleep; \n",
    "\n",
    "driver = webdriver.Firefox(); \n",
    "driver.implicitly_wait(10)\n",
    "url = \"http://www.asx.com.au/asx/research/listedCompanies.do?coName={query}\";\n"
   ]
  },
  {
   "cell_type": "code",
   "execution_count": 20,
   "metadata": {
    "collapsed": true
   },
   "outputs": [],
   "source": [
    "def TabToDicLst(tab): \n",
    "    trs = tab.findAll('tr'); \n",
    "    headerLst = [re.sub('[^0-9a-zA-Z]',\"\",th.getText()) for th in trs[0].findAll('th')]; \n",
    "    temp = {}; \n",
    "    retLst = []; \n",
    "    for tr in trs : \n",
    "        for idx,td in enumerate(tr.findAll('td')) : \n",
    "            temp[headerLst[idx]] = td.getText(); \n",
    "            anchors = td.findAll('a'); \n",
    "            if len(anchors) >0: \n",
    "                temp[\"herf\"] = \"%s%s\" %(\"http://www.asx.com.au\",anchors[0][\"href\"]); \n",
    "        retLst.append(temp.copy()); \n",
    "    return retLst; "
   ]
  },
  {
   "cell_type": "code",
   "execution_count": 21,
   "metadata": {
    "collapsed": true
   },
   "outputs": [],
   "source": [
    "def getPage(query):\n",
    "    driver.get(url.replace(\"{query}\",query))\n",
    "    sleep(10);\n",
    "    return BeautifulSoup(driver.page_source);"
   ]
  },
  {
   "cell_type": "code",
   "execution_count": 24,
   "metadata": {
    "collapsed": false
   },
   "outputs": [
    {
     "name": "stderr",
     "output_type": "stream",
     "text": [
      "/home/imp/anaconda3/lib/python3.5/site-packages/bs4/__init__.py:181: UserWarning: No parser was explicitly specified, so I'm using the best available HTML parser for this system (\"lxml\"). This usually isn't a problem, but if you run this code on another system, or in a different virtual environment, it may use a different parser and behave differently.\n",
      "\n",
      "The code that caused this warning is on line 184 of the file /home/imp/anaconda3/lib/python3.5/runpy.py. To get rid of this warning, change code that looks like this:\n",
      "\n",
      " BeautifulSoup([your markup])\n",
      "\n",
      "to this:\n",
      "\n",
      " BeautifulSoup([your markup], \"lxml\")\n",
      "\n",
      "  markup_type=markup_type))\n"
     ]
    },
    {
     "name": "stdout",
     "output_type": "stream",
     "text": [
      "found are :  19 and total are : 19\n",
      "found are :  272 and total are : 291\n",
      "found are :  123 and total are : 414\n",
      "found are :  190 and total are : 604\n",
      "found are :  68 and total are : 672\n",
      "found are :  97 and total are : 769\n",
      "found are :  64 and total are : 833\n",
      "found are :  85 and total are : 918\n",
      "found are :  54 and total are : 972\n",
      "found are :  105 and total are : 1077\n",
      "found are :  23 and total are : 1100\n",
      "found are :  60 and total are : 1160\n",
      "found are :  64 and total are : 1224\n",
      "found are :  168 and total are : 1392\n",
      "found are :  84 and total are : 1476\n",
      "found are :  60 and total are : 1536\n",
      "found are :  127 and total are : 1663\n",
      "found are :  24 and total are : 1687\n",
      "found are :  102 and total are : 1789\n",
      "found are :  207 and total are : 1996\n",
      "found are :  122 and total are : 2118\n",
      "found are :  18 and total are : 2136\n",
      "found are :  50 and total are : 2186\n",
      "found are :  61 and total are : 2247\n",
      "found are :  13 and total are : 2260\n",
      "found are :  9 and total are : 2269\n",
      "found are :  20 and total are : 2289\n"
     ]
    }
   ],
   "source": [
    "allCompanies = []; \n",
    "lst = [\"0-9\"] + list(\"ABCDEFGHIJKLMNOPQRSTUVWXYZ\")\n",
    "for key in lst :\n",
    "    soup = TabToDicLst(getPage(key))\n",
    "    jData = (soup);\n",
    "    allCompanies+=jData; \n",
    "    print(\"found are :  %s and total are : %s\" %(len(jData),len(allCompanies)))"
   ]
  },
  {
   "cell_type": "code",
   "execution_count": 25,
   "metadata": {
    "collapsed": false
   },
   "outputs": [],
   "source": [
    "with open('allCompanies.json','w') as f : \n",
    "    json.dump(allCompanies,f,indent=4)"
   ]
  },
  {
   "cell_type": "code",
   "execution_count": null,
   "metadata": {
    "collapsed": true
   },
   "outputs": [],
   "source": []
  }
 ],
 "metadata": {
  "anaconda-cloud": {},
  "kernelspec": {
   "display_name": "Python [default]",
   "language": "python",
   "name": "python3"
  },
  "language_info": {
   "codemirror_mode": {
    "name": "ipython",
    "version": 3
   },
   "file_extension": ".py",
   "mimetype": "text/x-python",
   "name": "python",
   "nbconvert_exporter": "python",
   "pygments_lexer": "ipython3",
   "version": "3.5.2"
  }
 },
 "nbformat": 4,
 "nbformat_minor": 2
}
