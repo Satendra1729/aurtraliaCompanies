{
 "cells": [
  {
   "cell_type": "code",
   "execution_count": 11,
   "metadata": {
    "collapsed": true
   },
   "outputs": [],
   "source": [
    "import json; \n",
    "import os; \n",
    "from collections import OrderedDict;"
   ]
  },
  {
   "cell_type": "code",
   "execution_count": 8,
   "metadata": {
    "collapsed": false
   },
   "outputs": [],
   "source": [
    "fileList = [\"jsonOutput/%s\" %ele for ele in os.walk(\"jsonOutput\").__next__()[2]]; "
   ]
  },
  {
   "cell_type": "code",
   "execution_count": 112,
   "metadata": {
    "collapsed": false
   },
   "outputs": [],
   "source": [
    "def getLine(fileName):\n",
    "    j = None; \n",
    "    dic = OrderedDict(); \n",
    "    with open(fileName,'r') as f : \n",
    "        j = json.load(f); \n",
    "    dic[\"Companyname\"] = j[\"Companyname\"]; \n",
    "    dic[\"diASXcode\"] = j[\"ASXcode\"]; \n",
    "    s = j[\"data\"][\"summary\"]\n",
    "    dic[\"industry group name\"] = s[\"industry_group_name\"]; \n",
    "    dic[\"sector name\"] = s[\"sector_name\"]\n",
    "    dic[\"listing date\"] = s[\"listing_date\"];\n",
    "    if \"registry_address\" in s.keys():\n",
    "        dic[\"registry address\"] = s[\"registry_address\"];\n",
    "    else :\n",
    "        dic[\"registry_address\"] = \"\";\n",
    "    #dic[\"investor relations email\"] = s[\"investor_relations_email\"];\n",
    "    if \"phone_number\" in s.keys():\n",
    "        dic[\"phone number\"] = s[\"phone_number\"]; \n",
    "    else : \n",
    "        dic[\"phone number\"] = \"\";         \n",
    "    #dic[\"mailing address\"] = s[\"mailing_address\"]; \n",
    "    dic[\"principal activities\"] = s[\"principal_activities\"];\n",
    "    #dic[\"fax number\"] = s[\"fax_number\"]; \n",
    "    if \"primary_share\" in s.keys():\n",
    "        p = s[\"primary_share\"]\n",
    "        if \"market_cap\" in p.keys():\n",
    "            dic[\"market cap\"] = p[\"market_cap\"]; \n",
    "        else : \n",
    "            dic[\"market cap\"] = -1;\n",
    "        if \"number_of_shares\" in p.keys():\n",
    "            dic[\"number of shares\"] = p[\"number_of_shares\"];\n",
    "        else : \n",
    "            dic[\"number of shares\"] = -1; \n",
    "        if \"bid_price\" in p.keys():\n",
    "            dic[\"bid price\"] = p[\"bid_price\"]; \n",
    "        else : \n",
    "            dic[\"bid_price\"] = -1;\n",
    "    else : \n",
    "        dic[\"market cap\"] = -1;\n",
    "        dic[\"number of shares\"] = -1;  \n",
    "        dic[\"bid_price\"] = -1;\n",
    "    #dic[\"average daily volume shares\"] = p[\"average_daily_volume\"]; \n",
    "    dic[\"website\"] = s[\"web_address\"]; \n",
    "    #dic[\"registry name\"] = s[\"registry_name\"]\n",
    "    details = j[\"data\"][\"details\"]\n",
    "    repInfo = []; \n",
    "    r = []; \n",
    "    if \"directors\" in details.keys():\n",
    "        repInfo += details[\"directors\"]; \n",
    "    if \"secretaries\" in details.keys():\n",
    "        repInfo += details[\"secretaries\"]; \n",
    "    lines = []; \n",
    "    for o in repInfo: \n",
    "        r.append(OrderedDict({\"full name\": o[\"full_name\"],\"roles\":';'.join(o[\"roles\"])}));\n",
    "    #print(dic)\n",
    "    topLine = \",\".join([str(l).replace(\"\\n\",\"\").replace(\"\\r\",\"\").replace(\",\",\"\") for l in list(dic.values())]); \n",
    "    lines = []; \n",
    "    for sigDin in r :\n",
    "        sigDin = \",\".join([str(l).replace(\",\",\"\").replace('\"','') for l in list(sigDin.values())]).replace(\"\\n\",\"\").replace(\"\\r\",\"\"); \n",
    "        lines.append(topLine+\",\"+ sigDin);\n",
    "    else :\n",
    "        lines.append(topLine);  \n",
    "    #print(list(dic.keys()))\n",
    "    #print(list(r[0].keys()))\n",
    "    return lines; \n",
    "    \n",
    "    "
   ]
  },
  {
   "cell_type": "code",
   "execution_count": 115,
   "metadata": {
    "collapsed": false
   },
   "outputs": [],
   "source": [
    "allLines = []; \n",
    "headers = ['Companyname', 'diASXcode', 'industry group name', 'sector name', \n",
    "           'listing date', 'registry address', 'phone number', 'principal activities',\n",
    "           'market cap', 'number of shares', 'bid price', 'website','roles', 'full name'] \n",
    "allLines.append(','.join(headers));\n",
    "\n",
    "for file in fileList:\n",
    "    allLines += getLine(file); \n",
    "with open(\"finalOutput.csv\",'w') as f : \n",
    "    f.write(\"\\n\".join(allLines))"
   ]
  },
  {
   "cell_type": "code",
   "execution_count": null,
   "metadata": {
    "collapsed": true
   },
   "outputs": [],
   "source": []
  }
 ],
 "metadata": {
  "anaconda-cloud": {},
  "kernelspec": {
   "display_name": "Python [conda root]",
   "language": "python",
   "name": "conda-root-py"
  },
  "language_info": {
   "codemirror_mode": {
    "name": "ipython",
    "version": 3
   },
   "file_extension": ".py",
   "mimetype": "text/x-python",
   "name": "python",
   "nbconvert_exporter": "python",
   "pygments_lexer": "ipython3",
   "version": "3.5.2"
  }
 },
 "nbformat": 4,
 "nbformat_minor": 1
}
